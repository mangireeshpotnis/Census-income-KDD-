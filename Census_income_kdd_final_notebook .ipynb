{
  "nbformat": 4,
  "nbformat_minor": 0,
  "metadata": {
    "colab": {
      "name": "Census_income_kdd_final_notebook.ipynb",
      "provenance": [],
      "collapsed_sections": []
    },
    "kernelspec": {
      "name": "python3",
      "display_name": "Python 3"
    }
  },
  "cells": [
    {
      "cell_type": "code",
      "metadata": {
        "id": "47dnfAaHCr7K",
        "colab_type": "code",
        "colab": {}
      },
      "source": [
        "!pip install -U -q PyDrive\n",
        "from pydrive.auth import GoogleAuth\n",
        "from pydrive.drive import GoogleDrive\n",
        "from google.colab import auth\n",
        "from oauth2client.client import GoogleCredentials"
      ],
      "execution_count": 0,
      "outputs": []
    },
    {
      "cell_type": "code",
      "metadata": {
        "id": "CIXtudTDDAyt",
        "colab_type": "code",
        "colab": {}
      },
      "source": [
        "auth.authenticate_user()\n",
        "gauth = GoogleAuth()\n",
        "gauth.credentials = GoogleCredentials.get_application_default()\n",
        "drive = GoogleDrive(gauth)"
      ],
      "execution_count": 0,
      "outputs": []
    },
    {
      "cell_type": "code",
      "metadata": {
        "id": "B5aIGdDyDIf9",
        "colab_type": "code",
        "colab": {}
      },
      "source": [
        "downloaded1 = drive.CreateFile({'id':'1q9LaZ03f8yixb1AAg_R_X95YfyOcRkIS'}) # replace the id with id of file you want to access\n",
        "downloaded1.GetContentFile('census-income.data')"
      ],
      "execution_count": 0,
      "outputs": []
    },
    {
      "cell_type": "code",
      "metadata": {
        "id": "A2B9R4aWFX0H",
        "colab_type": "code",
        "colab": {}
      },
      "source": [
        "downloaded2 = drive.CreateFile({'id':'1v6gK5zukJFNrviYlA_9aCVMLs9eTJV08'}) # replace the id with id of file you want to access\n",
        "downloaded2.GetContentFile('census-income.test')"
      ],
      "execution_count": 0,
      "outputs": []
    },
    {
      "cell_type": "code",
      "metadata": {
        "id": "SeESN8G9GsKA",
        "colab_type": "code",
        "colab": {}
      },
      "source": [
        "import pandas as pd\n",
        "import numpy as np\n",
        "from sklearn.preprocessing import LabelEncoder\n",
        "import seaborn as sns\n",
        "from sklearn.ensemble import RandomForestClassifier\n",
        "from sklearn.feature_selection import RFE\n",
        "from sklearn.model_selection import train_test_split\n",
        "from sklearn.linear_model import LogisticRegression\n",
        "from sklearn.preprocessing import StandardScaler\n",
        "from sklearn.metrics import roc_auc_score, accuracy_score, log_loss, recall_score, precision_score\n",
        "from sklearn.model_selection import RandomizedSearchCV\n",
        "from scipy.stats import randint\n",
        "import matplotlib.pyplot as plt"
      ],
      "execution_count": 0,
      "outputs": []
    },
    {
      "cell_type": "code",
      "metadata": {
        "id": "KEyNP8-oGurz",
        "colab_type": "code",
        "colab": {}
      },
      "source": [
        "\"\"\"importing the dataset\"\"\"\n",
        "data1 = pd.read_csv('census-income.data', header = None, names = [\"age\", \"workclass\", \"industry_code\", \"occupation_code\", \"education\",\"wage_per_hour\",\"enrolled_in_edu_inst_last_wk\", \"marital_status\", \"major_industry_code\", \"major_occupation_code\", \"race\", \"hispanic_origin\", \"sex\", \"member_of_a_labour_union\", \"reason_for_unemployment\", \"employment_status\", \"capital_gains\", \"capital_losses\", \"dividend_from_stocks\", \"tax_filler_status\", \"region_of_previous_residence\", \"state_of_previous_residence\", \"detailed_household_and_family_stat\", \"detailed_household_summary_in_household\", \"instance_weight\", \"migration_code_change_in_msa\", \"migration_code_change_in_reg\", \"migration_code_move_within_reg\", \"live_in_this_house_1_year_ag\", \"migration_prev_res_in_sunbelt\", \"num_persons_worked_for_employer\", \"family_members_under_18\", \"country_of_birth_father\", \"country_of_birth_mother\", \"country_of_birth_self\", \"citizenship\", \"own_business_or_self_employed\", \"fill_inc_questionnaire_for_veteran's_admin\", \"veterans_benefits\", \"weeks_worked_in_year\", \"year\", \"class\"])\n",
        "data2 = pd.read_csv('census-income.test', header = None, names = [\"age\", \"workclass\", \"industry_code\", \"occupation_code\", \"education\",\"wage_per_hour\",\"enrolled_in_edu_inst_last_wk\", \"marital_status\", \"major_industry_code\", \"major_occupation_code\", \"race\", \"hispanic_origin\", \"sex\", \"member_of_a_labour_union\", \"reason_for_unemployment\", \"employment_status\", \"capital_gains\", \"capital_losses\", \"dividend_from_stocks\", \"tax_filler_status\", \"region_of_previous_residence\", \"state_of_previous_residence\", \"detailed_household_and_family_stat\", \"detailed_household_summary_in_household\", \"instance_weight\", \"migration_code_change_in_msa\", \"migration_code_change_in_reg\", \"migration_code_move_within_reg\", \"live_in_this_house_1_year_ag\", \"migration_prev_res_in_sunbelt\", \"num_persons_worked_for_employer\", \"family_members_under_18\", \"country_of_birth_father\", \"country_of_birth_mother\", \"country_of_birth_self\", \"citizenship\", \"own_business_or_self_employed\", \"fill_inc_questionnaire_for_veteran's_admin\", \"veterans_benefits\", \"weeks_worked_in_year\", \"year\", \"class\"])\n"
      ],
      "execution_count": 0,
      "outputs": []
    },
    {
      "cell_type": "code",
      "metadata": {
        "id": "lX4PbjpAGxFm",
        "colab_type": "code",
        "colab": {}
      },
      "source": [
        "\"\"\" Preprocessing \"\"\"\n",
        "ogdata = pd.concat([data1, data2], ignore_index = True)\n",
        "data = pd.concat([data1, data2], ignore_index = True)\n",
        "data = data.drop_duplicates(subset=None, keep='first', inplace=False)\n"
      ],
      "execution_count": 0,
      "outputs": []
    },
    {
      "cell_type": "code",
      "metadata": {
        "id": "SjhmaDcmGzvP",
        "colab_type": "code",
        "colab": {}
      },
      "source": [
        "\"\"\"dictionary for replacement\"\"\"\n",
        "dictionary1 = {'\\(.*':'a'}\n",
        "dictionary2 = {'\\?':'Not in universe'}\n",
        "dictionary3 = {'\\-':'o'}\n",
        "data.replace(dictionary1, regex=True, inplace=True)\n",
        "data.replace(dictionary2, regex=True, inplace=True)\n",
        "data.replace(dictionary3, regex = True, inplace = True)\n",
        "data.replace({\n",
        "        'Not in universe' : np.nan,\n",
        "        },inplace = True , regex = True)\n"
      ],
      "execution_count": 0,
      "outputs": []
    },
    {
      "cell_type": "code",
      "metadata": {
        "id": "TXc7G6itG3mB",
        "colab_type": "code",
        "colab": {}
      },
      "source": [
        "\"\"\"data description : dropped columns\"\"\"\n",
        "data[\"enrolled_in_edu_inst_last_wk\"].value_counts() \n",
        "data[\"major_occupation_code\"].value_counts() \n",
        "data[\"hispanic_origin\"].value_counts() \n",
        "data[\"reason_for_unemployment\"].value_counts() \n",
        "data[\"region_of_previous_residence\"].value_counts() \n",
        "data[\"state_of_previous_residence\"].value_counts() \n",
        "data[\"detailed_household_and_family_stat\"].value_counts() \n",
        "data[\"migration_code_move_within_reg\"].value_counts() \n",
        "data[\"live_in_this_house_1_year_ag\"].value_counts() \n",
        "data[\"migration_prev_res_in_sunbelt\"].value_counts() \n",
        "data[\"family_members_under_18\"].value_counts() \n",
        "data[\"fill_inc_questionnaire_for_veteran's_admin\"].value_counts()"
      ],
      "execution_count": 0,
      "outputs": []
    },
    {
      "cell_type": "code",
      "metadata": {
        "id": "Pfn0-31aHRq4",
        "colab_type": "code",
        "colab": {}
      },
      "source": [
        "\"\"\"dropping columns\"\"\"\n",
        "data.drop(\"enrolled_in_edu_inst_last_wk\", axis = 1, inplace = True)\n",
        "data.drop(\"major_occupation_code\", axis = 1, inplace = True)\n",
        "data.drop(\"hispanic_origin\", axis = 1, inplace = True)\n",
        "data.drop(\"reason_for_unemployment\", axis = 1, inplace = True)\n",
        "data.drop(\"region_of_previous_residence\", axis = 1, inplace = True)\n",
        "data.drop(\"state_of_previous_residence\", axis = 1, inplace = True)\n",
        "data.drop(\"detailed_household_and_family_stat\", axis = 1, inplace = True)\n",
        "data.drop(\"migration_code_move_within_reg\", axis = 1, inplace = True)\n",
        "data.drop(\"live_in_this_house_1_year_ag\", axis = 1, inplace = True)\n",
        "data.drop(\"migration_prev_res_in_sunbelt\", axis = 1, inplace = True)\n",
        "data.drop(\"family_members_under_18\", axis = 1, inplace = True)\n",
        "data.drop(\"fill_inc_questionnaire_for_veteran's_admin\", axis = 1, inplace = True)\n"
      ],
      "execution_count": 0,
      "outputs": []
    },
    {
      "cell_type": "code",
      "metadata": {
        "id": "BX0E98f_HWfV",
        "colab_type": "code",
        "outputId": "fdd5f6a2-9d28-4820-cba2-ce58b8c85bc3",
        "colab": {
          "base_uri": "https://localhost:8080/",
          "height": 279
        }
      },
      "source": [
        "\"\"\"removing outliers\"\"\"\n",
        "#age\n",
        "data['age'].value_counts()\n",
        "sns.boxplot(x = data[\"age\"])\n",
        "data = data[(data.age >= 10)]"
      ],
      "execution_count": 0,
      "outputs": [
        {
          "output_type": "display_data",
          "data": {
            "image/png": "[encoded data removed]",
            "text/plain": [
              "<Figure size 432x288 with 1 Axes>"
            ]
          },
          "metadata": {
            "tags": []
          }
        }
      ]
    },
    {
      "cell_type": "code",
      "metadata": {
        "id": "7OV-vzX1Hs4Z",
        "colab_type": "code",
        "outputId": "9da965c7-9a2c-4f4c-d25f-46c439d74d67",
        "colab": {
          "base_uri": "https://localhost:8080/",
          "height": 280
        }
      },
      "source": [
        "#ccapital_gains\n",
        "data['capital_gains'].value_counts()\n",
        "sns.boxplot(x = data[\"capital_gains\"])\n",
        "data = data[(data.capital_gains <= 30000)]"
      ],
      "execution_count": 0,
      "outputs": [
        {
          "output_type": "display_data",
          "data": {
            "image/png": "[encoded data removed]",
            "text/plain": [
              "<Figure size 432x288 with 1 Axes>"
            ]
          },
          "metadata": {
            "tags": []
          }
        }
      ]
    },
    {
      "cell_type": "code",
      "metadata": {
        "id": "7p7XA8ddIB6n",
        "colab_type": "code",
        "outputId": "bdd06784-704e-4e4e-98ef-e34aef03e407",
        "colab": {
          "base_uri": "https://localhost:8080/",
          "height": 280
        }
      },
      "source": [
        "#capital_losses\n",
        "data['capital_losses'].value_counts()\n",
        "sns.boxplot(x = data[\"capital_losses\"])\n",
        "data = data[(data.capital_losses <= 3000)]"
      ],
      "execution_count": 0,
      "outputs": [
        {
          "output_type": "display_data",
          "data": {
            "image/png": "[encoded data removed]",
            "text/plain": [
              "<Figure size 432x288 with 1 Axes>"
            ]
          },
          "metadata": {
            "tags": []
          }
        }
      ]
    },
    {
      "cell_type": "code",
      "metadata": {
        "id": "SJSFl5K3IBxQ",
        "colab_type": "code",
        "outputId": "f7d82aed-3137-4f33-8404-97f4ca61a225",
        "colab": {
          "base_uri": "https://localhost:8080/",
          "height": 280
        }
      },
      "source": [
        "#dividend_from_stocks\n",
        "data['dividend_from_stocks'].value_counts()\n",
        "sns.boxplot(x = data[\"dividend_from_stocks\"])\n",
        "data = data[(data.dividend_from_stocks <= 60000)]"
      ],
      "execution_count": 0,
      "outputs": [
        {
          "output_type": "display_data",
          "data": {
            "image/png": "[encoded data removed]",
            "text/plain": [
              "<Figure size 432x288 with 1 Axes>"
            ]
          },
          "metadata": {
            "tags": []
          }
        }
      ]
    },
    {
      "cell_type": "code",
      "metadata": {
        "id": "LH6yJzVJIEuw",
        "colab_type": "code",
        "outputId": "568cedf1-c123-48d3-d054-de2598d4c41c",
        "colab": {
          "base_uri": "https://localhost:8080/",
          "height": 280
        }
      },
      "source": [
        "#instance_weight\n",
        "data['instance_weight'].value_counts()\n",
        "sns.boxplot(x = data[\"instance_weight\"])\n",
        "data = data[(data.instance_weight <= 13000)]"
      ],
      "execution_count": 0,
      "outputs": [
        {
          "output_type": "display_data",
          "data": {
            "image/png": "[encoded data removed]",
            "text/plain": [
              "<Figure size 432x288 with 1 Axes>"
            ]
          },
          "metadata": {
            "tags": []
          }
        }
      ]
    },
    {
      "cell_type": "code",
      "metadata": {
        "id": "TrmHAfGDIKdJ",
        "colab_type": "code",
        "colab": {}
      },
      "source": [
        "\"\"\" Dealing with NAs \"\"\"\n",
        "data.isnull().sum()\n",
        "def fillna(col):\n",
        "    col.fillna(col.value_counts().index[0], inplace=True)\n",
        "    return col\n",
        "\n",
        "WorkClass  = data['workclass']\n",
        "Major_Industry_Code = data['major_industry_code']\n",
        "Member_Of_Labour_Union = data['member_of_a_labour_union']\n",
        "Migration_Code_Change_MSA = data['migration_code_change_in_msa']\n",
        "Migration_Code_Change_REG = data['migration_code_change_in_reg']\n",
        "Fathers_birth_place = data['country_of_birth_father']\n",
        "Mothers_birth_place = data['country_of_birth_mother']\n",
        "Childs_birth_place = data['country_of_birth_self']\n"
      ],
      "execution_count": 0,
      "outputs": []
    },
    {
      "cell_type": "code",
      "metadata": {
        "id": "Q_nciKJFIeSv",
        "colab_type": "code",
        "colab": {}
      },
      "source": [
        "\"\"\" Imputing the NAs \"\"\"\n",
        "fillna(WorkClass)\n",
        "fillna(Major_Industry_Code)\n",
        "fillna(Member_Of_Labour_Union)\n",
        "fillna(Migration_Code_Change_MSA)\n",
        "fillna(Migration_Code_Change_REG)\n",
        "fillna(Fathers_birth_place)\n",
        "fillna(Childs_birth_place)\n",
        "fillna(Mothers_birth_place)\n",
        "\n",
        "data['workclass'] = pd.DataFrame(WorkClass)\n",
        "data['major_industry_code'] = pd.DataFrame(Major_Industry_Code)\n",
        "data['member_of_a_labour_union'] = pd.DataFrame(Member_Of_Labour_Union)\n",
        "data['migration_code_change_in_reg'] = pd.DataFrame(Migration_Code_Change_REG)\n",
        "data['country_of_birth_father'] = pd.DataFrame(Fathers_birth_place)\n",
        "data['country_of_birth_mother'] = pd.DataFrame(Mothers_birth_place)\n",
        "data['country_of_birth_self'] =  pd.DataFrame(Childs_birth_place)"
      ],
      "execution_count": 0,
      "outputs": []
    },
    {
      "cell_type": "code",
      "metadata": {
        "id": "sbWuJQSqIhsx",
        "colab_type": "code",
        "outputId": "e11c9b1f-ea8f-4670-f020-4321a7893564",
        "colab": {
          "base_uri": "https://localhost:8080/",
          "height": 102
        }
      },
      "source": [
        "\"\"\"creating bins\"\"\"\n",
        "#workclass\n",
        "ogdata[\"workclass\"].value_counts()\n",
        "data.replace({\n",
        "        'Private' : 'private', \n",
        "        'Selfoemployedonot incorporated' : 'self-employed',\n",
        "        'Local government' : 'government',\n",
        "        'State government' : 'government',\n",
        "        'Selfoemployedoincorporated' : 'government',\n",
        "        'Federal government' : 'government',\n",
        "        'Never worked' : 'unpaid',\n",
        "        'Without pay' : 'unpaid'},inplace = True, regex = True)\n",
        "data[\"workclass\"].value_counts() "
      ],
      "execution_count": 0,
      "outputs": [
        {
          "output_type": "execute_result",
          "data": {
            "text/plain": [
              " private          207869\n",
              " government        27082\n",
              " self-employed     12633\n",
              " unpaid              882\n",
              "Name: workclass, dtype: int64"
            ]
          },
          "metadata": {
            "tags": []
          },
          "execution_count": 18
        }
      ]
    },
    {
      "cell_type": "code",
      "metadata": {
        "id": "fHD4uYDsIlYx",
        "colab_type": "code",
        "outputId": "426b07c4-7661-4a1f-f65c-68e2d4faeabd",
        "colab": {
          "base_uri": "https://localhost:8080/",
          "height": 119
        }
      },
      "source": [
        "ogdata[\"education\"].value_counts() \n",
        "data.replace({\n",
        "        'High school graduate' : 'high-school-graduate',\n",
        "        'Some college but no degree' : 'high-school-graduate',\n",
        "        \"Bachelors degreea\" : 'undergraduate',\n",
        "        'Children' : 'children',\n",
        "        '7th and 8th grade' : 'children',\n",
        "        '10th grade' : 'high-school',\n",
        "        '11th grade' : 'high-school',\n",
        "        'Masters degreea' : 'postgraduate',\n",
        "        '9th grade' : 'high-school',\n",
        "        'Associates degreeooccup /vocational' : 'undergraduate',\n",
        "        'Associates degreeoacademic program' : 'undergraduate',\n",
        "        '5th or 6th grade' : 'children',\n",
        "        '12th grade no diploma' : 'high-school',\n",
        "        '1st 2nd 3rd or 4th grade' : 'children',\n",
        "        'Prof school degree a' : 'postgraduate',\n",
        "        'Doctorate degreea' : 'postgraduate',\n",
        "        'Less than 1st grade' : 'children'},inplace = True , regex = True)    \n",
        "data[\"education\"].value_counts()"
      ],
      "execution_count": 0,
      "outputs": [
        {
          "output_type": "execute_result",
          "data": {
            "text/plain": [
              " high-school-graduate    114053\n",
              " undergraduate            44001\n",
              " children                 42100\n",
              " high-school              34201\n",
              " postgraduate             14111\n",
              "Name: education, dtype: int64"
            ]
          },
          "metadata": {
            "tags": []
          },
          "execution_count": 19
        }
      ]
    },
    {
      "cell_type": "code",
      "metadata": {
        "id": "gwA4uojDJC1O",
        "colab_type": "code",
        "outputId": "110f5383-7b6b-4ff3-a61d-e7bb65de14e7",
        "colab": {
          "base_uri": "https://localhost:8080/",
          "height": 102
        }
      },
      "source": [
        "ogdata[\"marital_status\"].value_counts() \n",
        "data.replace({\n",
        "        'Never married':'Married',\n",
        "        'Marriedocivilian spouse present': 'Single',\n",
        "        'Divorced':'Seperated',\n",
        "        'Widowed':'Widowed',\n",
        "        'Separated':'Seperated',\n",
        "        'Marriedospouse absent':'Seperated',\n",
        "        'MarriedoA F spouse present':'Married'\n",
        "        }, inplace = True, regex = True)   \n",
        "data[\"marital_status\"].value_counts() "
      ],
      "execution_count": 0,
      "outputs": [
        {
          "output_type": "execute_result",
          "data": {
            "text/plain": [
              " Single       125708\n",
              " Married       80574\n",
              " Seperated     26469\n",
              " Widowed       15715\n",
              "Name: marital_status, dtype: int64"
            ]
          },
          "metadata": {
            "tags": []
          },
          "execution_count": 20
        }
      ]
    },
    {
      "cell_type": "code",
      "metadata": {
        "id": "oBYlFai3J8U-",
        "colab_type": "code",
        "outputId": "a20cc311-698e-4160-f420-a6c8f36a872e",
        "colab": {
          "base_uri": "https://localhost:8080/",
          "height": 85
        }
      },
      "source": [
        "ogdata[\"major_industry_code\"].value_counts() \n",
        "data.replace({        \n",
        "        'Retail trade' : 'trade',\n",
        "        'Manufacturingodurable goods' : 'trade',\n",
        "        'Education' : 'services',\n",
        "        'Manufacturingonondurable goods' : 'trade',\n",
        "        'Finance insurance and real estate' : 'services',\n",
        "        'Construction' : 'trade',\n",
        "        'Business and repair services': 'services',\n",
        "        'Medical except hospital': 'services',\n",
        "        'Public administration': 'services',\n",
        "        'Other professional services': 'services',\n",
        "        'Transportation': 'trade',\n",
        "        'Hospital services': 'services',\n",
        "        'Wholesale trade': 'trade',\n",
        "        'Agriculture': 'primary',\n",
        "        'Personal services except private HH': 'services',\n",
        "        'Social services': 'services',\n",
        "        'Entertainment': 'services',\n",
        "        'Communications': 'services',\n",
        "        'Utilities and sanitary services': 'services',\n",
        "        'private household services': 'services',\n",
        "        'Mining': 'primary',\n",
        "        'Forestry and fisheries': 'primary',\n",
        "        'Armed Forces': 'services'\n",
        "        },inplace = True , regex = True)\n",
        "data[\"major_industry_code\"].value_counts()  "
      ],
      "execution_count": 0,
      "outputs": [
        {
          "output_type": "execute_result",
          "data": {
            "text/plain": [
              " trade       170990\n",
              " services     71842\n",
              " primary       5634\n",
              "Name: major_industry_code, dtype: int64"
            ]
          },
          "metadata": {
            "tags": []
          },
          "execution_count": 21
        }
      ]
    },
    {
      "cell_type": "code",
      "metadata": {
        "id": "2GDeoB6PKe0k",
        "colab_type": "code",
        "outputId": "05ad907e-7c88-4287-d15d-3bb40a77ccd6",
        "colab": {
          "base_uri": "https://localhost:8080/",
          "height": 102
        }
      },
      "source": [
        "ogdata[\"race\"].value_counts() \n",
        "data.replace({\n",
        "        'Amer Indian Aleut or Eskimo' : 'Other'\n",
        "        },inplace = True , regex = True)\n",
        "data[\"race\"].value_counts() \n"
      ],
      "execution_count": 0,
      "outputs": [
        {
          "output_type": "execute_result",
          "data": {
            "text/plain": [
              " White                        210242\n",
              " Black                         24165\n",
              " Asian or Pacific Islander      7241\n",
              " Other                          6818\n",
              "Name: race, dtype: int64"
            ]
          },
          "metadata": {
            "tags": []
          },
          "execution_count": 22
        }
      ]
    },
    {
      "cell_type": "code",
      "metadata": {
        "id": "9FbGhp2YLlHn",
        "colab_type": "code",
        "outputId": "36145378-bbb8-46c8-c8df-faa70ab815d5",
        "colab": {
          "base_uri": "https://localhost:8080/",
          "height": 102
        }
      },
      "source": [
        "#employment_status\n",
        "ogdata[\"employment_status\"].value_counts()  \n",
        "data.replace({\n",
        "        'children or services' : 'other',\n",
        "        'Fullotime schedules' : 'full-time',\n",
        "        'Not in labor force' : 'unemployed',\n",
        "        'PT for nonoecon reasons usually FT' : 'part-time',\n",
        "        'Unemployed fullotime' : 'unemployed',\n",
        "        'PT for econ reasons usually PT' : 'part-time',\n",
        "        'Unemployed parto time' : 'part-time',\n",
        "        'PT for econ reasons usually FT' : 'part-time',        \n",
        "        },inplace = True , regex = True)\n",
        "data[\"employment_status\"].value_counts()\n"
      ],
      "execution_count": 0,
      "outputs": [
        {
          "output_type": "execute_result",
          "data": {
            "text/plain": [
              " other         135208\n",
              " full-time      60907\n",
              " unemployed     43498\n",
              " part-time       8853\n",
              "Name: employment_status, dtype: int64"
            ]
          },
          "metadata": {
            "tags": []
          },
          "execution_count": 23
        }
      ]
    },
    {
      "cell_type": "code",
      "metadata": {
        "id": "iJLjQUnNLpBA",
        "colab_type": "code",
        "outputId": "32252e3c-3c6a-4bc2-f654-d62c26c12dc2",
        "colab": {
          "base_uri": "https://localhost:8080/",
          "height": 102
        }
      },
      "source": [
        "#migration_code_change_in_msa\n",
        "ogdata[\"migration_code_change_in_msa\"].value_counts() \n",
        "data.replace({        \n",
        "        'Nonmover':'nonmover',\n",
        "        'MSA to MSA':'metropolitan-area',\n",
        "        'NonMSA to nonMSA':'outside-metropolitan-area',\n",
        "        'MSA to nonMSA':'outside-metropolitan-area',\n",
        "        'NonMSA to MSA':'metropolitan-area',\n",
        "        'Abroad to MSA':'metropolitan-area',\n",
        "        'Not identifiable':'nonmover',\n",
        "        'Abroad to nonMSA':'outside-metropolitan-area'\n",
        "        },inplace = True , regex = True)\n",
        "data[\"migration_code_change_in_msa\"].value_counts() \n"
      ],
      "execution_count": 0,
      "outputs": [
        {
          "output_type": "execute_result",
          "data": {
            "text/plain": [
              " nonmover                     229546\n",
              " metropolitan-area             13683\n",
              " outside-metropolitan-area      4464\n",
              " Nonmetropolitan-area            773\n",
              "Name: migration_code_change_in_msa, dtype: int64"
            ]
          },
          "metadata": {
            "tags": []
          },
          "execution_count": 24
        }
      ]
    },
    {
      "cell_type": "code",
      "metadata": {
        "id": "kS7UKJMwMh_Q",
        "colab_type": "code",
        "outputId": "69599313-7bd4-44f4-97b6-bbc7f4b8660f",
        "colab": {
          "base_uri": "https://localhost:8080/",
          "height": 68
        }
      },
      "source": [
        "#migration_code_change_in_reg\n",
        "ogdata[\"migration_code_change_in_reg\"].value_counts() \n",
        "data.replace({\n",
        "        'nonmover':'nonmover',\n",
        "        'Same county':'nonmover',\n",
        "        'Different county same state':'mover',\n",
        "        'Different region':'mover',\n",
        "        'Different state same division':'mover',\n",
        "        'Abroad':'mover',\n",
        "        'Different division same region':'mover'\n",
        "        },inplace = True , regex = True)\n",
        "data[\"migration_code_change_in_reg\"].value_counts() "
      ],
      "execution_count": 0,
      "outputs": [
        {
          "output_type": "execute_result",
          "data": {
            "text/plain": [
              " nonmover    241075\n",
              " mover         7391\n",
              "Name: migration_code_change_in_reg, dtype: int64"
            ]
          },
          "metadata": {
            "tags": []
          },
          "execution_count": 25
        }
      ]
    },
    {
      "cell_type": "code",
      "metadata": {
        "id": "mukwxSWPMv5S",
        "colab_type": "code",
        "colab": {}
      },
      "source": [
        "#country_of_birth_father\n",
        "ogdata[\"country_of_birth_father\"].value_counts()\n",
        "data.replace({\n",
        "        'UnitedoStates':'north-america',\n",
        "        'Mexico':'north-america',\n",
        "        'PuertooRico':'north-america',\n",
        "        'Italy':'europe',\n",
        "        'Canada':'north-america',\n",
        "        'Germany':'europe',\n",
        "        'Poland':'europe',\n",
        "        'Philippines':'asia',\n",
        "        'DominicanoRepublic':'north-america',\n",
        "        'Cuba':'north-america',\n",
        "        'EloSalvador':'north-america',\n",
        "        'China':'asia',\n",
        "        'England':'europe',\n",
        "        'Ireland':'europe',\n",
        "        'India':'asia',\n",
        "        'Columbia':'south-america',\n",
        "        'South Korea':'asia',\n",
        "        'Jamaica':'north-america',\n",
        "        'Guatemala':'north-america',\n",
        "        'Japan':'asia',\n",
        "        'Portugal':'europe',\n",
        "        'Vietnam':'asia',\n",
        "        'Greece':'europe',\n",
        "        'Ecuador':'south-america',\n",
        "        'Hungary':'europe',\n",
        "        'Nicaragua':'north-america',\n",
        "        'Haiti':'north-america',\n",
        "        'Peru':'south-america',\n",
        "        'Scotland':'europe',\n",
        "        'Yugoslavia':'europe',\n",
        "        'Iran':'asia',\n",
        "        'Cambodia':'asia',\n",
        "        'France':'europe',\n",
        "        'Honduras':'north-america',\n",
        "        'Taiwan':'asia',        \n",
        "        'Laos':'asia',\n",
        "        'Trinadad&Tobago':'south-america',\n",
        "        'Thailand':'asia',\n",
        "        'Hong Kong':'asia',\n",
        "        'HolandoNetherlands':'europe',\n",
        "        'Panama':'north-america',\n",
        "        'OutlyingoU S a' : 'north-america'\n",
        "        },inplace = True , regex = True)\n"
      ],
      "execution_count": 0,
      "outputs": []
    },
    {
      "cell_type": "code",
      "metadata": {
        "id": "YXvyIoAZNK5j",
        "colab_type": "code",
        "outputId": "ae107590-64f0-48cc-e620-e4cd5fae17b7",
        "colab": {
          "base_uri": "https://localhost:8080/",
          "height": 68
        }
      },
      "source": [
        "\n",
        "#citizenship\n",
        "ogdata[\"citizenship\"].value_counts()\n",
        "data.replace({\n",
        "        'Nativeo Born in the United States':'american',\n",
        "        'Foreign borno Not a citizen of U S':'not-american',\n",
        "        'Foreign borno U S citizen by naturalization':'american',\n",
        "        'Nativeo Born abroad of American Parenta':'american',\n",
        "        'Nativeo Born in Puerto Rico or U S Outlying':'american'        \n",
        "        },inplace = True , regex = True)\n",
        "data[\"citizenship\"].value_counts()"
      ],
      "execution_count": 0,
      "outputs": [
        {
          "output_type": "execute_result",
          "data": {
            "text/plain": [
              " american         229525\n",
              " not-american      18941\n",
              "Name: citizenship, dtype: int64"
            ]
          },
          "metadata": {
            "tags": []
          },
          "execution_count": 27
        }
      ]
    },
    {
      "cell_type": "code",
      "metadata": {
        "id": "YLX-qQLPO8yL",
        "colab_type": "code",
        "outputId": "e0ed0df2-effe-4e10-f65e-3ed05b536f9f",
        "colab": {
          "base_uri": "https://localhost:8080/",
          "height": 102
        }
      },
      "source": [
        "data[\"country_of_birth_father\"].value_counts()"
      ],
      "execution_count": 0,
      "outputs": [
        {
          "output_type": "execute_result",
          "data": {
            "text/plain": [
              " north-america    229185\n",
              " europe            11224\n",
              " asia               6285\n",
              " south-america      1772\n",
              "Name: country_of_birth_father, dtype: int64"
            ]
          },
          "metadata": {
            "tags": []
          },
          "execution_count": 28
        }
      ]
    },
    {
      "cell_type": "code",
      "metadata": {
        "id": "MIvz8KWZPm0e",
        "colab_type": "code",
        "outputId": "ee01a948-a7e4-4025-9618-4084246971c4",
        "colab": {
          "base_uri": "https://localhost:8080/",
          "height": 136
        }
      },
      "source": [
        "data[\"tax_filler_status\"].value_counts()"
      ],
      "execution_count": 0,
      "outputs": [
        {
          "output_type": "execute_result",
          "data": {
            "text/plain": [
              " Joint both under 65             100437\n",
              " Nonfiler                         62470\n",
              " Single                           56128\n",
              " Joint both 65+                   12482\n",
              " Head of household                11143\n",
              " Joint one under 65 & one 65+      5806\n",
              "Name: tax_filler_status, dtype: int64"
            ]
          },
          "metadata": {
            "tags": []
          },
          "execution_count": 29
        }
      ]
    },
    {
      "cell_type": "code",
      "metadata": {
        "id": "o1U8YkIgPtZo",
        "colab_type": "code",
        "outputId": "be4cf6a8-fa66-4ffc-d669-5a68b126b3aa",
        "colab": {
          "base_uri": "https://localhost:8080/",
          "height": 68
        }
      },
      "source": [
        "data[\"sex\"].value_counts()"
      ],
      "execution_count": 0,
      "outputs": [
        {
          "output_type": "execute_result",
          "data": {
            "text/plain": [
              " Female    130824\n",
              " Male      117642\n",
              "Name: sex, dtype: int64"
            ]
          },
          "metadata": {
            "tags": []
          },
          "execution_count": 30
        }
      ]
    },
    {
      "cell_type": "code",
      "metadata": {
        "id": "6iVoVhT4PwYY",
        "colab_type": "code",
        "outputId": "a69402f4-a042-45fe-8095-d8ddcbf3a479",
        "colab": {
          "base_uri": "https://localhost:8080/",
          "height": 85
        }
      },
      "source": [
        "data[\"veterans_benefits\"].value_counts() "
      ],
      "execution_count": 0,
      "outputs": [
        {
          "output_type": "execute_result",
          "data": {
            "text/plain": [
              "2    224348\n",
              "0     21112\n",
              "1      3006\n",
              "Name: veterans_benefits, dtype: int64"
            ]
          },
          "metadata": {
            "tags": []
          },
          "execution_count": 31
        }
      ]
    },
    {
      "cell_type": "code",
      "metadata": {
        "id": "c7PogJmSP0s_",
        "colab_type": "code",
        "colab": {}
      },
      "source": [
        "\"\"\"  MACHINE LEARNING AND DEEP LEARNING WITH PYTHON- \"\"\"\n",
        "#Encoding\n",
        "label_encoder = LabelEncoder()\n",
        "data['WorkClass'] = label_encoder.fit_transform(data['workclass'])\n",
        "data['Education'] = label_encoder.fit_transform(data['education'])\n",
        "data['Marital_Status'] = label_encoder.fit_transform(data['marital_status'])\n",
        "data['Major_Industry_Code']= label_encoder.fit_transform(data['major_industry_code'])\n",
        "data['Member_of_labour_union'] = label_encoder.fit_transform(data['member_of_a_labour_union'])\n",
        "data['Employment_Status'] = label_encoder.fit_transform(data['employment_status'])\n",
        "data['Tax_Filer_Status'] = label_encoder.fit_transform(data['tax_filler_status'])\n",
        "data['Detailed_Household_Summary'] = label_encoder.fit_transform(data['detailed_household_summary_in_household'])\n",
        "data['Migration_Code_Change_MSA'] = label_encoder.fit_transform(data['migration_code_change_in_msa'])\n",
        "data['Migration_Code_Change_REG'] = label_encoder.fit_transform(data['migration_code_change_in_reg'])\n",
        "data['Fathers_birthplace'] = label_encoder.fit_transform(data['country_of_birth_father'])\n",
        "data['Mothers_birthplace'] = label_encoder.fit_transform(data['country_of_birth_mother'])\n",
        "data['Childs_birthplace'] = label_encoder.fit_transform(data['country_of_birth_self'])\n",
        "data['Citizenship'] = label_encoder.fit_transform(data['citizenship'])\n",
        "data['Class'] = label_encoder.fit_transform(data['class'])\n",
        "data['Sex']= label_encoder.fit_transform(data['sex'])\n",
        "data['Race']= label_encoder.fit_transform(data['race'])\n",
        "data.drop(['class','workclass','education','marital_status','major_industry_code','member_of_a_labour_union','employment_status','tax_filler_status','detailed_household_summary_in_household','migration_code_change_in_msa','migration_code_change_in_reg','country_of_birth_father','country_of_birth_mother','country_of_birth_self','citizenship','sex','race'], axis = 1, inplace = True)\n"
      ],
      "execution_count": 0,
      "outputs": []
    },
    {
      "cell_type": "code",
      "metadata": {
        "id": "5tV53g2ER_Oa",
        "colab_type": "code",
        "colab": {}
      },
      "source": [
        "X = data.drop(\"Class\", axis = 1)\n",
        "Y = data['Class']"
      ],
      "execution_count": 0,
      "outputs": []
    },
    {
      "cell_type": "code",
      "metadata": {
        "id": "tv_993HdSQkl",
        "colab_type": "code",
        "colab": {}
      },
      "source": [
        "sel = RFE(RandomForestClassifier(n_estimators=100, random_state=0, n_jobs=-1), n_features_to_select = 15)\n",
        "rfe = sel.fit(X,Y)"
      ],
      "execution_count": 0,
      "outputs": []
    },
    {
      "cell_type": "code",
      "metadata": {
        "id": "utCqligmSWh-",
        "colab_type": "code",
        "outputId": "1faebfd1-4940-4e4f-be84-a69618c5ed19",
        "colab": {
          "base_uri": "https://localhost:8080/",
          "height": 102
        }
      },
      "source": [
        "print(rfe.support_)\n",
        "print(rfe.ranking_)"
      ],
      "execution_count": 0,
      "outputs": [
        {
          "output_type": "stream",
          "text": [
            "[ True  True  True False  True  True  True  True  True False False  True\n",
            " False  True  True False False False  True  True  True False False False\n",
            " False False False  True False]\n",
            "[ 1  1  1  4  1  1  1  1  1  2 14  1  6  1  1  3  7 13  1  1  1 10 15  8\n",
            "  9 11 12  1  5]\n"
          ],
          "name": "stdout"
        }
      ]
    },
    {
      "cell_type": "code",
      "metadata": {
        "id": "oR_uLepNWsMu",
        "colab_type": "code",
        "outputId": "7203bc77-0491-47eb-eb75-057305ad9596",
        "colab": {
          "base_uri": "https://localhost:8080/",
          "height": 948
        }
      },
      "source": [
        "ranks = pd.DataFrame(rfe.ranking_)\n",
        "cols = pd.DataFrame(X.columns)\n",
        "rfe_scores = pd.concat([cols, ranks], axis = 1)\n",
        "rfe_scores.columns = [\"feature\", \"score\"]\n",
        "rfe_scores"
      ],
      "execution_count": 0,
      "outputs": [
        {
          "output_type": "execute_result",
          "data": {
            "text/html": [
              "<div>\n",
              "<style scoped>\n",
              "    .dataframe tbody tr th:only-of-type {\n",
              "        vertical-align: middle;\n",
              "    }\n",
              "\n",
              "    .dataframe tbody tr th {\n",
              "        vertical-align: top;\n",
              "    }\n",
              "\n",
              "    .dataframe thead th {\n",
              "        text-align: right;\n",
              "    }\n",
              "</style>\n",
              "<table border=\"1\" class=\"dataframe\">\n",
              "  <thead>\n",
              "    <tr style=\"text-align: right;\">\n",
              "      <th></th>\n",
              "      <th>feature</th>\n",
              "      <th>score</th>\n",
              "    </tr>\n",
              "  </thead>\n",
              "  <tbody>\n",
              "    <tr>\n",
              "      <th>0</th>\n",
              "      <td>age</td>\n",
              "      <td>1</td>\n",
              "    </tr>\n",
              "    <tr>\n",
              "      <th>1</th>\n",
              "      <td>industry_code</td>\n",
              "      <td>1</td>\n",
              "    </tr>\n",
              "    <tr>\n",
              "      <th>2</th>\n",
              "      <td>occupation_code</td>\n",
              "      <td>1</td>\n",
              "    </tr>\n",
              "    <tr>\n",
              "      <th>3</th>\n",
              "      <td>wage_per_hour</td>\n",
              "      <td>4</td>\n",
              "    </tr>\n",
              "    <tr>\n",
              "      <th>4</th>\n",
              "      <td>capital_gains</td>\n",
              "      <td>1</td>\n",
              "    </tr>\n",
              "    <tr>\n",
              "      <th>5</th>\n",
              "      <td>capital_losses</td>\n",
              "      <td>1</td>\n",
              "    </tr>\n",
              "    <tr>\n",
              "      <th>6</th>\n",
              "      <td>dividend_from_stocks</td>\n",
              "      <td>1</td>\n",
              "    </tr>\n",
              "    <tr>\n",
              "      <th>7</th>\n",
              "      <td>instance_weight</td>\n",
              "      <td>1</td>\n",
              "    </tr>\n",
              "    <tr>\n",
              "      <th>8</th>\n",
              "      <td>num_persons_worked_for_employer</td>\n",
              "      <td>1</td>\n",
              "    </tr>\n",
              "    <tr>\n",
              "      <th>9</th>\n",
              "      <td>own_business_or_self_employed</td>\n",
              "      <td>2</td>\n",
              "    </tr>\n",
              "    <tr>\n",
              "      <th>10</th>\n",
              "      <td>veterans_benefits</td>\n",
              "      <td>14</td>\n",
              "    </tr>\n",
              "    <tr>\n",
              "      <th>11</th>\n",
              "      <td>weeks_worked_in_year</td>\n",
              "      <td>1</td>\n",
              "    </tr>\n",
              "    <tr>\n",
              "      <th>12</th>\n",
              "      <td>year</td>\n",
              "      <td>6</td>\n",
              "    </tr>\n",
              "    <tr>\n",
              "      <th>13</th>\n",
              "      <td>WorkClass</td>\n",
              "      <td>1</td>\n",
              "    </tr>\n",
              "    <tr>\n",
              "      <th>14</th>\n",
              "      <td>Education</td>\n",
              "      <td>1</td>\n",
              "    </tr>\n",
              "    <tr>\n",
              "      <th>15</th>\n",
              "      <td>Marital_Status</td>\n",
              "      <td>3</td>\n",
              "    </tr>\n",
              "    <tr>\n",
              "      <th>16</th>\n",
              "      <td>Major_Industry_Code</td>\n",
              "      <td>7</td>\n",
              "    </tr>\n",
              "    <tr>\n",
              "      <th>17</th>\n",
              "      <td>Member_of_labour_union</td>\n",
              "      <td>13</td>\n",
              "    </tr>\n",
              "    <tr>\n",
              "      <th>18</th>\n",
              "      <td>Employment_Status</td>\n",
              "      <td>1</td>\n",
              "    </tr>\n",
              "    <tr>\n",
              "      <th>19</th>\n",
              "      <td>Tax_Filer_Status</td>\n",
              "      <td>1</td>\n",
              "    </tr>\n",
              "    <tr>\n",
              "      <th>20</th>\n",
              "      <td>Detailed_Household_Summary</td>\n",
              "      <td>1</td>\n",
              "    </tr>\n",
              "    <tr>\n",
              "      <th>21</th>\n",
              "      <td>Migration_Code_Change_MSA</td>\n",
              "      <td>10</td>\n",
              "    </tr>\n",
              "    <tr>\n",
              "      <th>22</th>\n",
              "      <td>Migration_Code_Change_REG</td>\n",
              "      <td>15</td>\n",
              "    </tr>\n",
              "    <tr>\n",
              "      <th>23</th>\n",
              "      <td>Fathers_birthplace</td>\n",
              "      <td>8</td>\n",
              "    </tr>\n",
              "    <tr>\n",
              "      <th>24</th>\n",
              "      <td>Mothers_birthplace</td>\n",
              "      <td>9</td>\n",
              "    </tr>\n",
              "    <tr>\n",
              "      <th>25</th>\n",
              "      <td>Childs_birthplace</td>\n",
              "      <td>11</td>\n",
              "    </tr>\n",
              "    <tr>\n",
              "      <th>26</th>\n",
              "      <td>Citizenship</td>\n",
              "      <td>12</td>\n",
              "    </tr>\n",
              "    <tr>\n",
              "      <th>27</th>\n",
              "      <td>Sex</td>\n",
              "      <td>1</td>\n",
              "    </tr>\n",
              "    <tr>\n",
              "      <th>28</th>\n",
              "      <td>Race</td>\n",
              "      <td>5</td>\n",
              "    </tr>\n",
              "  </tbody>\n",
              "</table>\n",
              "</div>"
            ],
            "text/plain": [
              "                            feature  score\n",
              "0                               age      1\n",
              "1                     industry_code      1\n",
              "2                   occupation_code      1\n",
              "3                     wage_per_hour      4\n",
              "4                     capital_gains      1\n",
              "5                    capital_losses      1\n",
              "6              dividend_from_stocks      1\n",
              "7                   instance_weight      1\n",
              "8   num_persons_worked_for_employer      1\n",
              "9     own_business_or_self_employed      2\n",
              "10                veterans_benefits     14\n",
              "11             weeks_worked_in_year      1\n",
              "12                             year      6\n",
              "13                        WorkClass      1\n",
              "14                        Education      1\n",
              "15                   Marital_Status      3\n",
              "16              Major_Industry_Code      7\n",
              "17           Member_of_labour_union     13\n",
              "18                Employment_Status      1\n",
              "19                 Tax_Filer_Status      1\n",
              "20       Detailed_Household_Summary      1\n",
              "21        Migration_Code_Change_MSA     10\n",
              "22        Migration_Code_Change_REG     15\n",
              "23               Fathers_birthplace      8\n",
              "24               Mothers_birthplace      9\n",
              "25                Childs_birthplace     11\n",
              "26                      Citizenship     12\n",
              "27                              Sex      1\n",
              "28                             Race      5"
            ]
          },
          "metadata": {
            "tags": []
          },
          "execution_count": 37
        }
      ]
    },
    {
      "cell_type": "code",
      "metadata": {
        "id": "3WcYPXOeWuMs",
        "colab_type": "code",
        "colab": {}
      },
      "source": [
        "\n",
        "X_rfe = X[['age','industry_code','occupation_code','capital_gains','capital_losses','dividend_from_stocks','instance_weight','num_persons_worked_for_employer','weeks_worked_in_year','WorkClass','Education','Employment_Status','Tax_Filer_Status','Detailed_Household_Summary','Sex']]\n"
      ],
      "execution_count": 0,
      "outputs": []
    },
    {
      "cell_type": "code",
      "metadata": {
        "id": "GBJUATn-Wwia",
        "colab_type": "code",
        "colab": {}
      },
      "source": [
        "X_train, X_test, y_train, y_test = train_test_split(X_rfe, Y, test_size = 0.2, random_state = 0)"
      ],
      "execution_count": 0,
      "outputs": []
    },
    {
      "cell_type": "code",
      "metadata": {
        "id": "4gtdiPPjWyRQ",
        "colab_type": "code",
        "colab": {}
      },
      "source": [
        "# Feature Scaling\n",
        "\n",
        "sc = StandardScaler()\n",
        "X_train = sc.fit_transform(X_train)\n",
        "X_test = sc.transform(X_test)\n"
      ],
      "execution_count": 0,
      "outputs": []
    },
    {
      "cell_type": "code",
      "metadata": {
        "id": "bxvrpXDMXmpF",
        "colab_type": "code",
        "outputId": "8229813c-8ea9-4145-9c28-fe9ca5d2ee19",
        "colab": {
          "base_uri": "https://localhost:8080/",
          "height": 207
        }
      },
      "source": [
        "\"\"\" LOGISTIC REGRESSION \"\"\"\n",
        "logit = LogisticRegression()\n",
        "logit.fit(X_train, y_train)\n",
        "y_pred = logit.predict(X_test)\n",
        "pd.DataFrame(data=[accuracy_score(y_test, y_pred), recall_score(y_test, y_pred),\n",
        "                   precision_score(y_test, y_pred), roc_auc_score(y_test, y_pred)], \n",
        "             index=[\"accuracy\", \"recall\", \"precision\", \"roc_auc_score\"])\n",
        "#After fitting the model on these features, we get following results"
      ],
      "execution_count": 0,
      "outputs": [
        {
          "output_type": "stream",
          "text": [
            "/usr/local/lib/python3.6/dist-packages/sklearn/linear_model/logistic.py:432: FutureWarning: Default solver will be changed to 'lbfgs' in 0.22. Specify a solver to silence this warning.\n",
            "  FutureWarning)\n"
          ],
          "name": "stderr"
        },
        {
          "output_type": "execute_result",
          "data": {
            "text/html": [
              "<div>\n",
              "<style scoped>\n",
              "    .dataframe tbody tr th:only-of-type {\n",
              "        vertical-align: middle;\n",
              "    }\n",
              "\n",
              "    .dataframe tbody tr th {\n",
              "        vertical-align: top;\n",
              "    }\n",
              "\n",
              "    .dataframe thead th {\n",
              "        text-align: right;\n",
              "    }\n",
              "</style>\n",
              "<table border=\"1\" class=\"dataframe\">\n",
              "  <thead>\n",
              "    <tr style=\"text-align: right;\">\n",
              "      <th></th>\n",
              "      <th>0</th>\n",
              "    </tr>\n",
              "  </thead>\n",
              "  <tbody>\n",
              "    <tr>\n",
              "      <th>accuracy</th>\n",
              "      <td>0.939127</td>\n",
              "    </tr>\n",
              "    <tr>\n",
              "      <th>recall</th>\n",
              "      <td>0.990329</td>\n",
              "    </tr>\n",
              "    <tr>\n",
              "      <th>precision</th>\n",
              "      <td>0.946547</td>\n",
              "    </tr>\n",
              "    <tr>\n",
              "      <th>roc_auc_score</th>\n",
              "      <td>0.634868</td>\n",
              "    </tr>\n",
              "  </tbody>\n",
              "</table>\n",
              "</div>"
            ],
            "text/plain": [
              "                      0\n",
              "accuracy       0.939127\n",
              "recall         0.990329\n",
              "precision      0.946547\n",
              "roc_auc_score  0.634868"
            ]
          },
          "metadata": {
            "tags": []
          },
          "execution_count": 41
        }
      ]
    },
    {
      "cell_type": "code",
      "metadata": {
        "id": "9NkgAO8sYPoe",
        "colab_type": "code",
        "outputId": "ad5052d8-1d97-4950-da17-39510ba4431e",
        "colab": {
          "base_uri": "https://localhost:8080/",
          "height": 34
        }
      },
      "source": [
        "y_predlog = logit.predict_proba(X_test)\n",
        "log_loss(y_test, y_predlog, eps=1e-15, normalize=True, sample_weight=None, labels=None)  "
      ],
      "execution_count": 0,
      "outputs": [
        {
          "output_type": "execute_result",
          "data": {
            "text/plain": [
              "0.1602818801116339"
            ]
          },
          "metadata": {
            "tags": []
          },
          "execution_count": 42
        }
      ]
    },
    {
      "cell_type": "code",
      "metadata": {
        "id": "26BasuCBYk1w",
        "colab_type": "code",
        "outputId": "5702a354-5b90-4192-f495-28cf4f393abb",
        "colab": {
          "base_uri": "https://localhost:8080/",
          "height": 173
        }
      },
      "source": [
        "\"\"\" RANDOMFOREST CLASSIFIER  \"\"\"\n",
        "RFC = RandomForestClassifier(n_estimators = 300, criterion = \"entropy\", random_state = 12)\n",
        "RFC.fit(X_train, y_train)\n",
        "y_pred2 = RFC.predict(X_test)\n",
        "pd.DataFrame(data=[accuracy_score(y_test, y_pred2), recall_score(y_test, y_pred2),\n",
        "                   precision_score(y_test, y_pred2), roc_auc_score(y_test, y_pred2)], \n",
        "             index=[\"accuracy\", \"recall\", \"precision\", \"roc_auc_score\"])"
      ],
      "execution_count": 0,
      "outputs": [
        {
          "output_type": "execute_result",
          "data": {
            "text/html": [
              "<div>\n",
              "<style scoped>\n",
              "    .dataframe tbody tr th:only-of-type {\n",
              "        vertical-align: middle;\n",
              "    }\n",
              "\n",
              "    .dataframe tbody tr th {\n",
              "        vertical-align: top;\n",
              "    }\n",
              "\n",
              "    .dataframe thead th {\n",
              "        text-align: right;\n",
              "    }\n",
              "</style>\n",
              "<table border=\"1\" class=\"dataframe\">\n",
              "  <thead>\n",
              "    <tr style=\"text-align: right;\">\n",
              "      <th></th>\n",
              "      <th>0</th>\n",
              "    </tr>\n",
              "  </thead>\n",
              "  <tbody>\n",
              "    <tr>\n",
              "      <th>accuracy</th>\n",
              "      <td>0.946915</td>\n",
              "    </tr>\n",
              "    <tr>\n",
              "      <th>recall</th>\n",
              "      <td>0.987705</td>\n",
              "    </tr>\n",
              "    <tr>\n",
              "      <th>precision</th>\n",
              "      <td>0.956509</td>\n",
              "    </tr>\n",
              "    <tr>\n",
              "      <th>roc_auc_score</th>\n",
              "      <td>0.704526</td>\n",
              "    </tr>\n",
              "  </tbody>\n",
              "</table>\n",
              "</div>"
            ],
            "text/plain": [
              "                      0\n",
              "accuracy       0.946915\n",
              "recall         0.987705\n",
              "precision      0.956509\n",
              "roc_auc_score  0.704526"
            ]
          },
          "metadata": {
            "tags": []
          },
          "execution_count": 43
        }
      ]
    },
    {
      "cell_type": "code",
      "metadata": {
        "id": "uFtb7oHpMerU",
        "colab_type": "code",
        "outputId": "238c99b0-625c-42b1-c2f7-9e6ab7c64285",
        "colab": {
          "base_uri": "https://localhost:8080/",
          "height": 34
        }
      },
      "source": [
        "y_predlog = RFC.predict_proba(X_test)\n",
        "log_loss(y_test, y_predlog, eps=1e-15, normalize=True, sample_weight=None, labels=None)  "
      ],
      "execution_count": 0,
      "outputs": [
        {
          "output_type": "execute_result",
          "data": {
            "text/plain": [
              "0.17354214515649963"
            ]
          },
          "metadata": {
            "tags": []
          },
          "execution_count": 44
        }
      ]
    },
    {
      "cell_type": "code",
      "metadata": {
        "id": "sSCAX98UrJ1S",
        "colab_type": "code",
        "colab": {}
      },
      "source": [
        "\"\"\" ANN   \"\"\"\n",
        "from tensorflow.keras.models import Sequential\n",
        "import keras\n",
        "from tensorflow.python.keras.models import Sequential\n",
        "#from tensorflow.keras.models import models\n",
        "from keras.layers import Dense\n",
        "from keras.layers import LeakyReLU,PReLU,ELU\n",
        "from keras.layers import Dropout\n",
        "import tensorflow.compat.v1 as tf\n",
        "tf.disable_v2_behavior()\n",
        "import keras\n",
        "from keras.layers import Dense, Activation, Embedding, Flatten, LeakyReLU, BatchNormalization, Dropout\n",
        "from keras.models import Sequential\n",
        "from keras.layers import Dense\n",
        "from keras.layers import LeakyReLU,PReLU,ELU\n",
        "from keras.layers import Dropout\n",
        "from sklearn.metrics import confusion_matrix\n",
        "from keras.wrappers.scikit_learn import KerasClassifier\n",
        "from sklearn.model_selection import GridSearchCV"
      ],
      "execution_count": 0,
      "outputs": []
    },
    {
      "cell_type": "code",
      "metadata": {
        "id": "xbSfwfRmQwNi",
        "colab_type": "code",
        "outputId": "62b5bb48-153e-4c0a-e972-afaa5331f18f",
        "colab": {
          "base_uri": "https://localhost:8080/",
          "height": 51
        }
      },
      "source": [
        "\"\"\" Initialising the ANN \"\"\" \n",
        "classifier = Sequential()"
      ],
      "execution_count": 0,
      "outputs": [
        {
          "output_type": "stream",
          "text": [
            "WARNING:tensorflow:From /usr/local/lib/python3.6/dist-packages/keras/backend/tensorflow_backend.py:66: The name tf.get_default_graph is deprecated. Please use tf.compat.v1.get_default_graph instead.\n",
            "\n"
          ],
          "name": "stdout"
        }
      ]
    },
    {
      "cell_type": "code",
      "metadata": {
        "id": "MMPT30C-mvKt",
        "colab_type": "code",
        "outputId": "3935727d-0d63-4a64-dbf8-5b956ecbb348",
        "colab": {
          "base_uri": "https://localhost:8080/",
          "height": 51
        }
      },
      "source": [
        "#training the first neural network\n",
        "classifier.add(Dense(output_dim = 6, init = 'he_uniform',activation='relu',input_dim = 15))"
      ],
      "execution_count": 0,
      "outputs": [
        {
          "output_type": "stream",
          "text": [
            "/usr/local/lib/python3.6/dist-packages/ipykernel_launcher.py:1: UserWarning: Update your `Dense` call to the Keras 2 API: `Dense(activation=\"relu\", input_dim=15, units=6, kernel_initializer=\"he_uniform\")`\n",
            "  \"\"\"Entry point for launching an IPython kernel.\n"
          ],
          "name": "stderr"
        }
      ]
    },
    {
      "cell_type": "code",
      "metadata": {
        "id": "-akhxS_ljtVH",
        "colab_type": "code",
        "outputId": "893800f0-4cd1-4ede-8661-9ad05bed8fce",
        "colab": {
          "base_uri": "https://localhost:8080/",
          "height": 51
        }
      },
      "source": [
        "classifier.add(Dense(output_dim = 6, init = 'he_uniform',activation='sigmoid'))"
      ],
      "execution_count": 0,
      "outputs": [
        {
          "output_type": "stream",
          "text": [
            "/usr/local/lib/python3.6/dist-packages/ipykernel_launcher.py:1: UserWarning: Update your `Dense` call to the Keras 2 API: `Dense(activation=\"sigmoid\", units=6, kernel_initializer=\"he_uniform\")`\n",
            "  \"\"\"Entry point for launching an IPython kernel.\n"
          ],
          "name": "stderr"
        }
      ]
    },
    {
      "cell_type": "code",
      "metadata": {
        "id": "aTM4pLtCjtPM",
        "colab_type": "code",
        "outputId": "e7a996b9-cc4e-4748-86fd-eb0d9725c7af",
        "colab": {
          "base_uri": "https://localhost:8080/",
          "height": 51
        }
      },
      "source": [
        "classifier.add(Dense(output_dim = 1, init = 'glorot_uniform', activation = 'hard_sigmoid'))"
      ],
      "execution_count": 0,
      "outputs": [
        {
          "output_type": "stream",
          "text": [
            "/usr/local/lib/python3.6/dist-packages/ipykernel_launcher.py:1: UserWarning: Update your `Dense` call to the Keras 2 API: `Dense(activation=\"hard_sigmoid\", units=1, kernel_initializer=\"glorot_uniform\")`\n",
            "  \"\"\"Entry point for launching an IPython kernel.\n"
          ],
          "name": "stderr"
        }
      ]
    },
    {
      "cell_type": "code",
      "metadata": {
        "id": "nN422B63jtHr",
        "colab_type": "code",
        "colab": {}
      },
      "source": [
        "classifier.compile(optimizer = 'Adamax', loss = 'binary_crossentropy', metrics = ['accuracy'])"
      ],
      "execution_count": 0,
      "outputs": []
    },
    {
      "cell_type": "code",
      "metadata": {
        "id": "sNPPpBVmjs_A",
        "colab_type": "code",
        "outputId": "f8b489e7-280f-4584-fef7-4c250874991f",
        "colab": {
          "base_uri": "https://localhost:8080/",
          "height": 408
        }
      },
      "source": [
        "model_history=classifier.fit(X_train, y_train,validation_split=0.33, batch_size = 10, nb_epoch = 10)"
      ],
      "execution_count": 0,
      "outputs": [
        {
          "output_type": "stream",
          "text": [
            "/usr/local/lib/python3.6/dist-packages/ipykernel_launcher.py:1: UserWarning: The `nb_epoch` argument in `fit` has been renamed `epochs`.\n",
            "  \"\"\"Entry point for launching an IPython kernel.\n"
          ],
          "name": "stderr"
        },
        {
          "output_type": "stream",
          "text": [
            "Train on 133177 samples, validate on 65595 samples\n",
            "Epoch 1/10\n",
            "133177/133177 [==============================] - 29s 216us/step - loss: 0.1839 - acc: 0.9266 - val_loss: 0.1700 - val_acc: 0.9292\n",
            "Epoch 2/10\n",
            "133177/133177 [==============================] - 28s 213us/step - loss: 0.1713 - acc: 0.9266 - val_loss: 0.1675 - val_acc: 0.9292\n",
            "Epoch 3/10\n",
            "133177/133177 [==============================] - 28s 212us/step - loss: 0.1690 - acc: 0.9266 - val_loss: 0.1643 - val_acc: 0.9292\n",
            "Epoch 4/10\n",
            "133177/133177 [==============================] - 28s 213us/step - loss: 0.1669 - acc: 0.9266 - val_loss: 0.1690 - val_acc: 0.9292\n",
            "Epoch 5/10\n",
            "133177/133177 [==============================] - 28s 212us/step - loss: 0.1650 - acc: 0.9266 - val_loss: 0.1621 - val_acc: 0.9292\n",
            "Epoch 6/10\n",
            "133177/133177 [==============================] - 28s 211us/step - loss: 0.1642 - acc: 0.9266 - val_loss: 0.1605 - val_acc: 0.9292\n",
            "Epoch 7/10\n",
            "133177/133177 [==============================] - 28s 210us/step - loss: 0.1625 - acc: 0.9266 - val_loss: 0.1597 - val_acc: 0.9292\n",
            "Epoch 8/10\n",
            "133177/133177 [==============================] - 28s 210us/step - loss: 0.1614 - acc: 0.9266 - val_loss: 0.1591 - val_acc: 0.9292\n",
            "Epoch 9/10\n",
            "133177/133177 [==============================] - 28s 209us/step - loss: 0.1611 - acc: 0.9266 - val_loss: 0.1588 - val_acc: 0.9292\n",
            "Epoch 10/10\n",
            "133177/133177 [==============================] - 28s 211us/step - loss: 0.1603 - acc: 0.9266 - val_loss: 0.1581 - val_acc: 0.9292\n"
          ],
          "name": "stdout"
        }
      ]
    },
    {
      "cell_type": "code",
      "metadata": {
        "id": "Di6jox3ro8gx",
        "colab_type": "code",
        "colab": {}
      },
      "source": [
        "# Predicting the Test set results\n",
        "y_pred_s = classifier.predict(X_test)\n",
        "y_pred_s = (y_pred_s > 0.5)"
      ],
      "execution_count": 0,
      "outputs": []
    },
    {
      "cell_type": "code",
      "metadata": {
        "id": "xxDLXXl8o8WS",
        "colab_type": "code",
        "outputId": "21006d03-3ba2-4857-9b18-805066b72e3e",
        "colab": {
          "base_uri": "https://localhost:8080/",
          "height": 173
        }
      },
      "source": [
        "pd.DataFrame(data=[accuracy_score(y_test, y_pred_s), recall_score(y_test, y_pred_s),\n",
        "                   precision_score(y_test, y_pred_s), roc_auc_score(y_test, y_pred_s)], \n",
        "             index=[\"accuracy\", \"recall\", \"precision\", \"roc_auc_score\"])"
      ],
      "execution_count": 0,
      "outputs": [
        {
          "output_type": "execute_result",
          "data": {
            "text/html": [
              "<div>\n",
              "<style scoped>\n",
              "    .dataframe tbody tr th:only-of-type {\n",
              "        vertical-align: middle;\n",
              "    }\n",
              "\n",
              "    .dataframe tbody tr th {\n",
              "        vertical-align: top;\n",
              "    }\n",
              "\n",
              "    .dataframe thead th {\n",
              "        text-align: right;\n",
              "    }\n",
              "</style>\n",
              "<table border=\"1\" class=\"dataframe\">\n",
              "  <thead>\n",
              "    <tr style=\"text-align: right;\">\n",
              "      <th></th>\n",
              "      <th>0</th>\n",
              "    </tr>\n",
              "  </thead>\n",
              "  <tbody>\n",
              "    <tr>\n",
              "      <th>accuracy</th>\n",
              "      <td>0.927979</td>\n",
              "    </tr>\n",
              "    <tr>\n",
              "      <th>recall</th>\n",
              "      <td>1.000000</td>\n",
              "    </tr>\n",
              "    <tr>\n",
              "      <th>precision</th>\n",
              "      <td>0.927979</td>\n",
              "    </tr>\n",
              "    <tr>\n",
              "      <th>roc_auc_score</th>\n",
              "      <td>0.500000</td>\n",
              "    </tr>\n",
              "  </tbody>\n",
              "</table>\n",
              "</div>"
            ],
            "text/plain": [
              "                      0\n",
              "accuracy       0.927979\n",
              "recall         1.000000\n",
              "precision      0.927979\n",
              "roc_auc_score  0.500000"
            ]
          },
          "metadata": {
            "tags": []
          },
          "execution_count": 71
        }
      ]
    },
    {
      "cell_type": "code",
      "metadata": {
        "id": "dIWaEkTcjMNB",
        "colab_type": "code",
        "outputId": "b1f92344-e7d4-47c1-f4dd-786fe6a72d8c",
        "colab": {
          "base_uri": "https://localhost:8080/",
          "height": 51
        }
      },
      "source": [
        "#training the second neural network\n",
        "classifier.add(Dense(output_dim = 12, init = 'glorot_uniform',activation='relu',input_dim = 15))"
      ],
      "execution_count": 0,
      "outputs": [
        {
          "output_type": "stream",
          "text": [
            "/usr/local/lib/python3.6/dist-packages/ipykernel_launcher.py:1: UserWarning: Update your `Dense` call to the Keras 2 API: `Dense(activation=\"relu\", input_dim=15, units=12, kernel_initializer=\"glorot_uniform\")`\n",
            "  \"\"\"Entry point for launching an IPython kernel.\n"
          ],
          "name": "stderr"
        }
      ]
    },
    {
      "cell_type": "code",
      "metadata": {
        "id": "hdNNc_e0jOR_",
        "colab_type": "code",
        "outputId": "38278dd4-2248-451d-cd8e-2205819c978e",
        "colab": {
          "base_uri": "https://localhost:8080/",
          "height": 51
        }
      },
      "source": [
        "classifier.add(Dense(output_dim = 10, init = 'he_uniform',activation='sigmoid'))"
      ],
      "execution_count": 0,
      "outputs": [
        {
          "output_type": "stream",
          "text": [
            "/usr/local/lib/python3.6/dist-packages/ipykernel_launcher.py:1: UserWarning: Update your `Dense` call to the Keras 2 API: `Dense(activation=\"sigmoid\", units=10, kernel_initializer=\"he_uniform\")`\n",
            "  \"\"\"Entry point for launching an IPython kernel.\n"
          ],
          "name": "stderr"
        }
      ]
    },
    {
      "cell_type": "code",
      "metadata": {
        "id": "MKZ-fW0pjOIS",
        "colab_type": "code",
        "outputId": "c52dc9fc-3a10-4012-dfff-36d9c79ae71a",
        "colab": {
          "base_uri": "https://localhost:8080/",
          "height": 51
        }
      },
      "source": [
        "classifier.add(Dense(output_dim = 1, init = 'glorot_uniform', activation = 'hard_sigmoid'))"
      ],
      "execution_count": 0,
      "outputs": [
        {
          "output_type": "stream",
          "text": [
            "/usr/local/lib/python3.6/dist-packages/ipykernel_launcher.py:1: UserWarning: Update your `Dense` call to the Keras 2 API: `Dense(activation=\"hard_sigmoid\", units=1, kernel_initializer=\"glorot_uniform\")`\n",
            "  \"\"\"Entry point for launching an IPython kernel.\n"
          ],
          "name": "stderr"
        }
      ]
    },
    {
      "cell_type": "code",
      "metadata": {
        "id": "o-JTv_kxjOAx",
        "colab_type": "code",
        "outputId": "ccf1b6fd-ee8e-4140-efdd-a9f956bc37ae",
        "colab": {
          "base_uri": "https://localhost:8080/",
          "height": 408
        }
      },
      "source": [
        "classifier.compile(optimizer = 'Adamax', loss = 'binary_crossentropy', metrics = ['accuracy'])\n",
        "model_history=classifier.fit(X_train, y_train,validation_split=0.33, batch_size = 10, nb_epoch = 10)"
      ],
      "execution_count": 0,
      "outputs": [
        {
          "output_type": "stream",
          "text": [
            "/usr/local/lib/python3.6/dist-packages/ipykernel_launcher.py:2: UserWarning: The `nb_epoch` argument in `fit` has been renamed `epochs`.\n",
            "  \n"
          ],
          "name": "stderr"
        },
        {
          "output_type": "stream",
          "text": [
            "Train on 133177 samples, validate on 65595 samples\n",
            "Epoch 1/10\n",
            "133177/133177 [==============================] - 25s 186us/step - loss: 0.2069 - acc: 0.9092 - val_loss: 0.1594 - val_acc: 0.9378\n",
            "Epoch 2/10\n",
            "133177/133177 [==============================] - 25s 185us/step - loss: 0.1600 - acc: 0.9388 - val_loss: 0.1578 - val_acc: 0.9407\n",
            "Epoch 3/10\n",
            "133177/133177 [==============================] - 24s 183us/step - loss: 0.1587 - acc: 0.9399 - val_loss: 0.1571 - val_acc: 0.9409\n",
            "Epoch 4/10\n",
            "133177/133177 [==============================] - 26s 192us/step - loss: 0.1581 - acc: 0.9401 - val_loss: 0.1564 - val_acc: 0.9403\n",
            "Epoch 5/10\n",
            "133177/133177 [==============================] - 25s 187us/step - loss: 0.1577 - acc: 0.9405 - val_loss: 0.1567 - val_acc: 0.9399\n",
            "Epoch 6/10\n",
            "133177/133177 [==============================] - 24s 184us/step - loss: 0.1567 - acc: 0.9406 - val_loss: 0.1555 - val_acc: 0.9405\n",
            "Epoch 7/10\n",
            "133177/133177 [==============================] - 25s 185us/step - loss: 0.1563 - acc: 0.9406 - val_loss: 0.1570 - val_acc: 0.9413\n",
            "Epoch 8/10\n",
            "133177/133177 [==============================] - 25s 184us/step - loss: 0.1560 - acc: 0.9411 - val_loss: 0.1549 - val_acc: 0.9404\n",
            "Epoch 9/10\n",
            "133177/133177 [==============================] - 25s 184us/step - loss: 0.1567 - acc: 0.9410 - val_loss: 0.1675 - val_acc: 0.9408\n",
            "Epoch 10/10\n",
            "133177/133177 [==============================] - 25s 184us/step - loss: 0.1557 - acc: 0.9408 - val_loss: 0.1544 - val_acc: 0.9411\n"
          ],
          "name": "stdout"
        }
      ]
    },
    {
      "cell_type": "code",
      "metadata": {
        "id": "f-FxWmgx0_Yr",
        "colab_type": "code",
        "outputId": "284267db-bd81-47d6-aeef-a17f553a9ec1",
        "colab": {
          "base_uri": "https://localhost:8080/",
          "height": 295
        }
      },
      "source": [
        "# summarize history for accuracy\n",
        "plt.plot(model_history.history['acc'])\n",
        "plt.plot(model_history.history['val_acc'])\n",
        "plt.title('model accuracy')\n",
        "plt.ylabel('accuracy')\n",
        "plt.xlabel('epoch')\n",
        "plt.legend(['train', 'val_acc'], loc='upper left')\n",
        "plt.show()"
      ],
      "execution_count": 0,
      "outputs": [
        {
          "output_type": "display_data",
          "data": {
            "image/png": "[encoded data removed]",
            "text/plain": [
              "<Figure size 432x288 with 1 Axes>"
            ]
          },
          "metadata": {
            "tags": []
          }
        }
      ]
    },
    {
      "cell_type": "code",
      "metadata": {
        "id": "WZmj4PZe0_Ob",
        "colab_type": "code",
        "outputId": "2f3de638-5e40-413a-e6d7-19d35f552877",
        "colab": {
          "base_uri": "https://localhost:8080/",
          "height": 295
        }
      },
      "source": [
        "# summarize history for loss\n",
        "plt.plot(model_history.history['loss'])\n",
        "plt.plot(model_history.history['val_loss'])\n",
        "plt.title('model loss')\n",
        "plt.ylabel('loss')\n",
        "plt.xlabel('epoch')\n",
        "plt.legend(['train', 'val_loss'], loc='upper left')\n",
        "plt.show()"
      ],
      "execution_count": 0,
      "outputs": [
        {
          "output_type": "display_data",
          "data": {
            "image/png": "[encoded data removed]",
            "text/plain": [
              "<Figure size 432x288 with 1 Axes>"
            ]
          },
          "metadata": {
            "tags": []
          }
        }
      ]
    },
    {
      "cell_type": "code",
      "metadata": {
        "id": "ZwadZahzmvbk",
        "colab_type": "code",
        "colab": {}
      },
      "source": [
        "y_pred_r = classifier.predict(X_test)\n",
        "y_pred_r = (y_pred_r > 0.5)"
      ],
      "execution_count": 0,
      "outputs": []
    },
    {
      "cell_type": "code",
      "metadata": {
        "id": "aOd3NtzjmvTp",
        "colab_type": "code",
        "outputId": "3f8e2804-0a95-43d2-e59a-743e330a9830",
        "colab": {
          "base_uri": "https://localhost:8080/",
          "height": 173
        }
      },
      "source": [
        "pd.DataFrame(data=[accuracy_score(y_test, y_pred_r), recall_score(y_test, y_pred_r),\n",
        "                   precision_score(y_test, y_pred_r), roc_auc_score(y_test, y_pred_r)], \n",
        "             index=[\"accuracy\", \"recall\", \"precision\", \"roc_auc_score\"])"
      ],
      "execution_count": 0,
      "outputs": [
        {
          "output_type": "execute_result",
          "data": {
            "text/html": [
              "<div>\n",
              "<style scoped>\n",
              "    .dataframe tbody tr th:only-of-type {\n",
              "        vertical-align: middle;\n",
              "    }\n",
              "\n",
              "    .dataframe tbody tr th {\n",
              "        vertical-align: top;\n",
              "    }\n",
              "\n",
              "    .dataframe thead th {\n",
              "        text-align: right;\n",
              "    }\n",
              "</style>\n",
              "<table border=\"1\" class=\"dataframe\">\n",
              "  <thead>\n",
              "    <tr style=\"text-align: right;\">\n",
              "      <th></th>\n",
              "      <th>0</th>\n",
              "    </tr>\n",
              "  </thead>\n",
              "  <tbody>\n",
              "    <tr>\n",
              "      <th>accuracy</th>\n",
              "      <td>0.940757</td>\n",
              "    </tr>\n",
              "    <tr>\n",
              "      <th>recall</th>\n",
              "      <td>0.986143</td>\n",
              "    </tr>\n",
              "    <tr>\n",
              "      <th>precision</th>\n",
              "      <td>0.951759</td>\n",
              "    </tr>\n",
              "    <tr>\n",
              "      <th>roc_auc_score</th>\n",
              "      <td>0.671054</td>\n",
              "    </tr>\n",
              "  </tbody>\n",
              "</table>\n",
              "</div>"
            ],
            "text/plain": [
              "                      0\n",
              "accuracy       0.940757\n",
              "recall         0.986143\n",
              "precision      0.951759\n",
              "roc_auc_score  0.671054"
            ]
          },
          "metadata": {
            "tags": []
          },
          "execution_count": 64
        }
      ]
    },
    {
      "cell_type": "code",
      "metadata": {
        "id": "UDozdnGdQ0p9",
        "colab_type": "code",
        "outputId": "66caf0a8-7434-4d87-87d4-94344cbfbcef",
        "colab": {
          "base_uri": "https://localhost:8080/",
          "height": 119
        }
      },
      "source": [
        "#creating third neural network\n",
        "classifier.add(Dense(output_dim = 6, init = 'he_uniform',activation='relu',input_dim = 15))"
      ],
      "execution_count": 0,
      "outputs": [
        {
          "output_type": "stream",
          "text": [
            "WARNING:tensorflow:From /usr/local/lib/python3.6/dist-packages/keras/backend/tensorflow_backend.py:541: The name tf.placeholder is deprecated. Please use tf.compat.v1.placeholder instead.\n",
            "\n",
            "WARNING:tensorflow:From /usr/local/lib/python3.6/dist-packages/keras/backend/tensorflow_backend.py:4432: The name tf.random_uniform is deprecated. Please use tf.random.uniform instead.\n",
            "\n"
          ],
          "name": "stdout"
        },
        {
          "output_type": "stream",
          "text": [
            "/usr/local/lib/python3.6/dist-packages/ipykernel_launcher.py:1: UserWarning: Update your `Dense` call to the Keras 2 API: `Dense(activation=\"relu\", input_dim=15, units=6, kernel_initializer=\"he_uniform\")`\n",
            "  \"\"\"Entry point for launching an IPython kernel.\n"
          ],
          "name": "stderr"
        }
      ]
    },
    {
      "cell_type": "code",
      "metadata": {
        "id": "ABHbbV8MQ4GE",
        "colab_type": "code",
        "outputId": "f7bdeba3-84fd-4fa3-9763-f501b4bfc0ae",
        "colab": {
          "base_uri": "https://localhost:8080/",
          "height": 51
        }
      },
      "source": [
        "# Adding the second hidden layer\n",
        "classifier.add(Dense(output_dim = 6, init = 'he_uniform',activation='relu'))"
      ],
      "execution_count": 0,
      "outputs": [
        {
          "output_type": "stream",
          "text": [
            "/usr/local/lib/python3.6/dist-packages/ipykernel_launcher.py:1: UserWarning: Update your `Dense` call to the Keras 2 API: `Dense(activation=\"relu\", units=6, kernel_initializer=\"he_uniform\")`\n",
            "  \"\"\"Entry point for launching an IPython kernel.\n"
          ],
          "name": "stderr"
        }
      ]
    },
    {
      "cell_type": "code",
      "metadata": {
        "id": "rHbC79nhQ6oK",
        "colab_type": "code",
        "outputId": "f8c4847b-8dd1-43dc-8119-17e3980f68d9",
        "colab": {
          "base_uri": "https://localhost:8080/",
          "height": 51
        }
      },
      "source": [
        "# Adding the output layer\n",
        "classifier.add(Dense(output_dim = 1, init = 'glorot_uniform', activation = 'sigmoid'))"
      ],
      "execution_count": 0,
      "outputs": [
        {
          "output_type": "stream",
          "text": [
            "/usr/local/lib/python3.6/dist-packages/ipykernel_launcher.py:1: UserWarning: Update your `Dense` call to the Keras 2 API: `Dense(activation=\"sigmoid\", units=1, kernel_initializer=\"glorot_uniform\")`\n",
            "  \"\"\"Entry point for launching an IPython kernel.\n"
          ],
          "name": "stderr"
        }
      ]
    },
    {
      "cell_type": "code",
      "metadata": {
        "id": "JK3vDXHVQ_d4",
        "colab_type": "code",
        "outputId": "4e50aee2-842d-4a52-cfaa-e0ae6f946f47",
        "colab": {
          "base_uri": "https://localhost:8080/",
          "height": 136
        }
      },
      "source": [
        "# Compiling the ANN\n",
        "classifier.compile(optimizer = 'Adamax', loss = 'binary_crossentropy', metrics = ['accuracy'])"
      ],
      "execution_count": 0,
      "outputs": [
        {
          "output_type": "stream",
          "text": [
            "WARNING:tensorflow:From /usr/local/lib/python3.6/dist-packages/keras/optimizers.py:793: The name tf.train.Optimizer is deprecated. Please use tf.compat.v1.train.Optimizer instead.\n",
            "\n",
            "WARNING:tensorflow:From /usr/local/lib/python3.6/dist-packages/keras/backend/tensorflow_backend.py:3657: The name tf.log is deprecated. Please use tf.math.log instead.\n",
            "\n",
            "WARNING:tensorflow:From /usr/local/lib/python3.6/dist-packages/tensorflow_core/python/ops/nn_impl.py:183: where (from tensorflow.python.ops.array_ops) is deprecated and will be removed in a future version.\n",
            "Instructions for updating:\n",
            "Use tf.where in 2.0, which has the same broadcast rule as np.where\n"
          ],
          "name": "stdout"
        }
      ]
    },
    {
      "cell_type": "code",
      "metadata": {
        "id": "xHQpKkC5RB8P",
        "colab_type": "code",
        "outputId": "0bd197b1-2ef1-4dd5-f94e-3fe94da42a59",
        "colab": {
          "base_uri": "https://localhost:8080/",
          "height": 680
        }
      },
      "source": [
        "\n",
        "# Fitting the ANN to the Training set\n",
        "model_history=classifier.fit(X_train, y_train,validation_split=0.33, batch_size = 10, nb_epoch = 10)"
      ],
      "execution_count": 0,
      "outputs": [
        {
          "output_type": "stream",
          "text": [
            "/usr/local/lib/python3.6/dist-packages/ipykernel_launcher.py:1: UserWarning: The `nb_epoch` argument in `fit` has been renamed `epochs`.\n",
            "  \"\"\"Entry point for launching an IPython kernel.\n"
          ],
          "name": "stderr"
        },
        {
          "output_type": "stream",
          "text": [
            "WARNING:tensorflow:From /usr/local/lib/python3.6/dist-packages/keras/backend/tensorflow_backend.py:1033: The name tf.assign_add is deprecated. Please use tf.compat.v1.assign_add instead.\n",
            "\n",
            "WARNING:tensorflow:From /usr/local/lib/python3.6/dist-packages/keras/backend/tensorflow_backend.py:1020: The name tf.assign is deprecated. Please use tf.compat.v1.assign instead.\n",
            "\n",
            "WARNING:tensorflow:From /usr/local/lib/python3.6/dist-packages/keras/backend/tensorflow_backend.py:3005: The name tf.Session is deprecated. Please use tf.compat.v1.Session instead.\n",
            "\n",
            "Train on 133177 samples, validate on 65595 samples\n",
            "Epoch 1/10\n",
            "WARNING:tensorflow:From /usr/local/lib/python3.6/dist-packages/keras/backend/tensorflow_backend.py:190: The name tf.get_default_session is deprecated. Please use tf.compat.v1.get_default_session instead.\n",
            "\n",
            "WARNING:tensorflow:From /usr/local/lib/python3.6/dist-packages/keras/backend/tensorflow_backend.py:197: The name tf.ConfigProto is deprecated. Please use tf.compat.v1.ConfigProto instead.\n",
            "\n",
            "WARNING:tensorflow:From /usr/local/lib/python3.6/dist-packages/keras/backend/tensorflow_backend.py:207: The name tf.global_variables is deprecated. Please use tf.compat.v1.global_variables instead.\n",
            "\n",
            "WARNING:tensorflow:From /usr/local/lib/python3.6/dist-packages/keras/backend/tensorflow_backend.py:216: The name tf.is_variable_initialized is deprecated. Please use tf.compat.v1.is_variable_initialized instead.\n",
            "\n",
            "WARNING:tensorflow:From /usr/local/lib/python3.6/dist-packages/keras/backend/tensorflow_backend.py:223: The name tf.variables_initializer is deprecated. Please use tf.compat.v1.variables_initializer instead.\n",
            "\n",
            "133177/133177 [==============================] - 21s 161us/step - loss: 0.1974 - acc: 0.9281 - val_loss: 0.1657 - val_acc: 0.9366\n",
            "Epoch 2/10\n",
            "133177/133177 [==============================] - 21s 155us/step - loss: 0.1629 - acc: 0.9375 - val_loss: 0.1592 - val_acc: 0.9391\n",
            "Epoch 3/10\n",
            "133177/133177 [==============================] - 22s 164us/step - loss: 0.1596 - acc: 0.9385 - val_loss: 0.1578 - val_acc: 0.9391\n",
            "Epoch 4/10\n",
            "133177/133177 [==============================] - 22s 165us/step - loss: 0.1584 - acc: 0.9390 - val_loss: 0.1579 - val_acc: 0.9383\n",
            "Epoch 5/10\n",
            "133177/133177 [==============================] - 21s 157us/step - loss: 0.1579 - acc: 0.9393 - val_loss: 0.1569 - val_acc: 0.9393\n",
            "Epoch 6/10\n",
            "133177/133177 [==============================] - 21s 158us/step - loss: 0.1575 - acc: 0.9393 - val_loss: 0.1566 - val_acc: 0.9395\n",
            "Epoch 7/10\n",
            "133177/133177 [==============================] - 21s 159us/step - loss: 0.1572 - acc: 0.9395 - val_loss: 0.1572 - val_acc: 0.9387\n",
            "Epoch 8/10\n",
            "133177/133177 [==============================] - 21s 154us/step - loss: 0.1568 - acc: 0.9395 - val_loss: 0.1563 - val_acc: 0.9397\n",
            "Epoch 9/10\n",
            "133177/133177 [==============================] - 21s 160us/step - loss: 0.1566 - acc: 0.9397 - val_loss: 0.1563 - val_acc: 0.9393\n",
            "Epoch 10/10\n",
            "133177/133177 [==============================] - 21s 155us/step - loss: 0.1564 - acc: 0.9398 - val_loss: 0.1559 - val_acc: 0.9406\n"
          ],
          "name": "stdout"
        }
      ]
    },
    {
      "cell_type": "code",
      "metadata": {
        "id": "DaBAyVBpSCYe",
        "colab_type": "code",
        "outputId": "118246cb-01f1-45a2-8e8d-6af0644d5922",
        "colab": {
          "base_uri": "https://localhost:8080/",
          "height": 295
        }
      },
      "source": [
        "# summarize history for accuracy\n",
        "plt.plot(model_history.history['acc'])\n",
        "plt.plot(model_history.history['val_acc'])\n",
        "plt.title('model accuracy')\n",
        "plt.ylabel('accuracy')\n",
        "plt.xlabel('epoch')\n",
        "plt.legend(['train', 'val_acc'], loc='upper left')\n",
        "plt.show()"
      ],
      "execution_count": 0,
      "outputs": [
        {
          "output_type": "display_data",
          "data": {
            "image/png": "[encoded data removed]",
            "text/plain": [
              "<Figure size 432x288 with 1 Axes>"
            ]
          },
          "metadata": {
            "tags": []
          }
        }
      ]
    },
    {
      "cell_type": "code",
      "metadata": {
        "id": "4uSuRIooSGbS",
        "colab_type": "code",
        "outputId": "177ebfae-aa07-4752-b38f-c97d1b0e92f6",
        "colab": {
          "base_uri": "https://localhost:8080/",
          "height": 295
        }
      },
      "source": [
        "# summarize history for loss\n",
        "plt.plot(model_history.history['loss'])\n",
        "plt.plot(model_history.history['val_loss'])\n",
        "plt.title('model loss')\n",
        "plt.ylabel('loss')\n",
        "plt.xlabel('epoch')\n",
        "plt.legend(['train', 'val_loss'], loc='upper left')\n",
        "plt.show()"
      ],
      "execution_count": 0,
      "outputs": [
        {
          "output_type": "display_data",
          "data": {
            "image/png": "[encoded data removed]",
            "text/plain": [
              "<Figure size 432x288 with 1 Axes>"
            ]
          },
          "metadata": {
            "tags": []
          }
        }
      ]
    },
    {
      "cell_type": "code",
      "metadata": {
        "id": "ekVKOFEoSUzM",
        "colab_type": "code",
        "colab": {}
      },
      "source": [
        "\"\"\" Making the predictions and evaluating the model\"\"\"\n",
        "# Predicting the Test set results\n",
        "y_pred = classifier.predict(X_test)\n",
        "y_pred = (y_pred > 0.5)"
      ],
      "execution_count": 0,
      "outputs": []
    },
    {
      "cell_type": "code",
      "metadata": {
        "id": "o_ZDBk-CWa32",
        "colab_type": "code",
        "outputId": "6e3199a5-9251-4f9c-871f-c9c70d0680c7",
        "colab": {
          "base_uri": "https://localhost:8080/",
          "height": 173
        }
      },
      "source": [
        "pd.DataFrame(data=[accuracy_score(y_test, y_pred), recall_score(y_test, y_pred),\n",
        "                   precision_score(y_test, y_pred), roc_auc_score(y_test, y_pred)], \n",
        "             index=[\"accuracy\", \"recall\", \"precision\", \"roc_auc_score\"])"
      ],
      "execution_count": 0,
      "outputs": [
        {
          "output_type": "execute_result",
          "data": {
            "text/html": [
              "<div>\n",
              "<style scoped>\n",
              "    .dataframe tbody tr th:only-of-type {\n",
              "        vertical-align: middle;\n",
              "    }\n",
              "\n",
              "    .dataframe tbody tr th {\n",
              "        vertical-align: top;\n",
              "    }\n",
              "\n",
              "    .dataframe thead th {\n",
              "        text-align: right;\n",
              "    }\n",
              "</style>\n",
              "<table border=\"1\" class=\"dataframe\">\n",
              "  <thead>\n",
              "    <tr style=\"text-align: right;\">\n",
              "      <th></th>\n",
              "      <th>0</th>\n",
              "    </tr>\n",
              "  </thead>\n",
              "  <tbody>\n",
              "    <tr>\n",
              "      <th>accuracy</th>\n",
              "      <td>0.939812</td>\n",
              "    </tr>\n",
              "    <tr>\n",
              "      <th>recall</th>\n",
              "      <td>0.989266</td>\n",
              "    </tr>\n",
              "    <tr>\n",
              "      <th>precision</th>\n",
              "      <td>0.948125</td>\n",
              "    </tr>\n",
              "    <tr>\n",
              "      <th>roc_auc_score</th>\n",
              "      <td>0.645932</td>\n",
              "    </tr>\n",
              "  </tbody>\n",
              "</table>\n",
              "</div>"
            ],
            "text/plain": [
              "                      0\n",
              "accuracy       0.939812\n",
              "recall         0.989266\n",
              "precision      0.948125\n",
              "roc_auc_score  0.645932"
            ]
          },
          "metadata": {
            "tags": []
          },
          "execution_count": 56
        }
      ]
    },
    {
      "cell_type": "code",
      "metadata": {
        "id": "T0OXgMM_z6I8",
        "colab_type": "code",
        "colab": {}
      },
      "source": [
        ""
      ],
      "execution_count": 0,
      "outputs": []
    }
  ]
}